{
 "cells": [
  {
   "cell_type": "markdown",
   "metadata": {
    "colab_type": "text",
    "id": "Be9yoh-ILfRr"
   },
   "source": [
    "# Hybrid Demucs\n",
    "\n",
    "Feel free to use the Colab version:\n",
    "https://colab.research.google.com/drive/1dC9nVxk3V_VPjUADsnFu8EiT-xnU1tGH?usp=sharing"
   ]
  },
  {
   "cell_type": "code",
   "execution_count": null,
   "metadata": {
    "colab": {
     "base_uri": "https://localhost:8080/",
     "height": 139
    },
    "colab_type": "code",
    "executionInfo": {
     "elapsed": 12277,
     "status": "ok",
     "timestamp": 1583778134659,
     "user": {
      "displayName": "Marllus Lustosa",
      "photoUrl": "https://lh3.googleusercontent.com/a-/AOh14GgLl2RbW64ZyWz3Y8IBku0zhHCMnt7fz7fEl0LTdA=s64",
      "userId": "14811735256675200480"
     },
     "user_tz": 180
    },
    "id": "kOjIPLlzhPfn",
    "outputId": "c75f17ec-b576-4105-bc5b-c2ac9c1018a3"
   },
   "outputs": [
    {
     "name": "stdout",
     "output_type": "stream",
     "text": [
      "Requirement already satisfied: demucs in c:\\anaconda\\lib\\site-packages (4.0.0)\n",
      "Collecting demucs\n",
      "  Downloading demucs-4.0.1.tar.gz (1.2 MB)\n",
      "     ---------------------------------------- 1.2/1.2 MB 19.4 MB/s eta 0:00:00\n",
      "  Preparing metadata (setup.py): started\n",
      "  Preparing metadata (setup.py): finished with status 'done'\n",
      "Requirement already satisfied: dora-search in c:\\anaconda\\lib\\site-packages (from demucs) (0.1.11)\n",
      "Requirement already satisfied: einops in c:\\anaconda\\lib\\site-packages (from demucs) (0.6.0)\n",
      "Requirement already satisfied: julius>=0.2.3 in c:\\anaconda\\lib\\site-packages (from demucs) (0.2.7)\n",
      "Requirement already satisfied: lameenc>=1.2 in c:\\anaconda\\lib\\site-packages (from demucs) (1.4.2)\n",
      "Requirement already satisfied: openunmix in c:\\anaconda\\lib\\site-packages (from demucs) (1.2.1)\n",
      "Requirement already satisfied: pyyaml in c:\\anaconda\\lib\\site-packages (from demucs) (6.0)\n",
      "Requirement already satisfied: torch>=1.8.1 in c:\\anaconda\\lib\\site-packages (from demucs) (1.13.1)\n",
      "Requirement already satisfied: torchaudio>=0.8 in c:\\anaconda\\lib\\site-packages (from demucs) (0.13.1)\n",
      "Requirement already satisfied: tqdm in c:\\anaconda\\lib\\site-packages (from demucs) (4.64.1)\n",
      "Requirement already satisfied: typing-extensions in c:\\anaconda\\lib\\site-packages (from torch>=1.8.1->demucs) (4.3.0)\n",
      "Requirement already satisfied: submitit in c:\\anaconda\\lib\\site-packages (from dora-search->demucs) (1.4.5)\n",
      "Requirement already satisfied: omegaconf in c:\\anaconda\\lib\\site-packages (from dora-search->demucs) (2.3.0)\n",
      "Requirement already satisfied: retrying in c:\\anaconda\\lib\\site-packages (from dora-search->demucs) (1.3.4)\n",
      "Requirement already satisfied: treetable in c:\\anaconda\\lib\\site-packages (from dora-search->demucs) (0.2.5)\n",
      "Requirement already satisfied: numpy in c:\\anaconda\\lib\\site-packages (from openunmix->demucs) (1.21.5)\n",
      "Requirement already satisfied: colorama in c:\\anaconda\\lib\\site-packages (from tqdm->demucs) (0.4.5)\n",
      "Requirement already satisfied: antlr4-python3-runtime==4.9.* in c:\\anaconda\\lib\\site-packages (from omegaconf->dora-search->demucs) (4.9.3)\n",
      "Requirement already satisfied: six>=1.7.0 in c:\\anaconda\\lib\\site-packages (from retrying->dora-search->demucs) (1.16.0)\n",
      "Requirement already satisfied: cloudpickle>=1.2.1 in c:\\anaconda\\lib\\site-packages (from submitit->dora-search->demucs) (2.0.0)\n",
      "Building wheels for collected packages: demucs\n",
      "  Building wheel for demucs (setup.py): started\n",
      "  Building wheel for demucs (setup.py): finished with status 'done'\n",
      "  Created wheel for demucs: filename=demucs-4.0.1-py3-none-any.whl size=78398 sha256=17f0c32c991c587348c337d9706b44ef89bffd5db6d17f009a8150f574a88f57\n",
      "  Stored in directory: c:\\users\\usuario\\appdata\\local\\pip\\cache\\wheels\\bb\\1d\\17\\2263f47df7a597fde6a99a95621556c8ede8aaecc38841b2d9\n",
      "Successfully built demucs\n",
      "Installing collected packages: demucs\n",
      "  Attempting uninstall: demucs\n",
      "    Found existing installation: demucs 4.0.0\n",
      "    Uninstalling demucs-4.0.0:\n",
      "      Successfully uninstalled demucs-4.0.0\n",
      "Successfully installed demucs-4.0.1\n"
     ]
    }
   ],
   "source": [
    "!pip install -U demucs\n",
    "# or for local development, if you have a clone of Demucs\n",
    "# pip install -e ."
   ]
  },
  {
   "cell_type": "code",
   "execution_count": null,
   "metadata": {
    "colab": {},
    "colab_type": "code",
    "id": "5lYOzKKCKAbJ"
   },
   "outputs": [
    {
     "name": "stdout",
     "output_type": "stream",
     "text": [
      "\u001b[1mImportant: the default model was recently changed to `htdemucs`\u001b[0m the latest Hybrid Transformer Demucs model. In some cases, this model can actually perform worse than previous models. To get back the old default model use `-n mdx_extra_q`.\n",
      "Selected model is a bag of 1 models. You will see that many progress bars per track.\n",
      "Separated tracks will be stored in C:\\Users\\Usuario\\AppData\\Local\\Programs\\Microsoft VS Code\\separated\\htdemucs\n"
     ]
    },
    {
     "name": "stderr",
     "output_type": "stream",
     "text": [
      "Downloading: \"https://dl.fbaipublicfiles.com/demucs/hybrid_transformer/955717e8-8726e21a.th\" to C:\\Users\\Usuario/.cache\\torch\\hub\\checkpoints\\955717e8-8726e21a.th\n",
      "\n",
      "  0%|          | 0.00/80.2M [00:00<?, ?B/s]\n",
      "  4%|▎         | 2.98M/80.2M [00:00<00:02, 31.3MB/s]\n",
      "  7%|▋         | 5.97M/80.2M [00:00<00:02, 30.1MB/s]\n",
      " 11%|█         | 8.84M/80.2M [00:00<00:02, 27.6MB/s]\n",
      " 14%|█▍        | 11.5M/80.2M [00:00<00:02, 26.8MB/s]\n",
      " 18%|█▊        | 14.1M/80.2M [00:00<00:02, 25.1MB/s]\n",
      " 21%|██        | 16.5M/80.2M [00:00<00:02, 25.0MB/s]\n",
      " 24%|██▍       | 19.2M/80.2M [00:00<00:02, 26.1MB/s]\n",
      " 27%|██▋       | 21.7M/80.2M [00:00<00:02, 22.5MB/s]\n",
      " 30%|███       | 24.5M/80.2M [00:01<00:02, 24.2MB/s]\n",
      " 34%|███▎      | 26.9M/80.2M [00:01<00:02, 24.5MB/s]\n",
      " 37%|███▋      | 29.5M/80.2M [00:01<00:02, 25.3MB/s]\n",
      " 40%|███▉      | 32.0M/80.2M [00:01<00:01, 25.4MB/s]\n",
      " 43%|████▎     | 34.4M/80.2M [00:01<00:02, 22.4MB/s]\n",
      " 46%|████▌     | 36.8M/80.2M [00:01<00:01, 23.2MB/s]\n",
      " 49%|████▉     | 39.5M/80.2M [00:01<00:01, 24.5MB/s]\n",
      " 53%|█████▎    | 42.5M/80.2M [00:01<00:01, 26.4MB/s]\n",
      " 56%|█████▋    | 45.2M/80.2M [00:01<00:01, 26.8MB/s]\n",
      " 60%|██████    | 48.2M/80.2M [00:01<00:01, 28.2MB/s]\n",
      " 64%|██████▎   | 51.1M/80.2M [00:02<00:01, 28.8MB/s]\n",
      " 68%|██████▊   | 54.3M/80.2M [00:02<00:00, 30.0MB/s]\n",
      " 71%|███████   | 57.1M/80.2M [00:02<00:00, 29.8MB/s]\n",
      " 75%|███████▍  | 60.0M/80.2M [00:02<00:00, 29.4MB/s]\n",
      " 79%|███████▉  | 63.2M/80.2M [00:02<00:00, 30.7MB/s]\n",
      " 83%|████████▎ | 66.4M/80.2M [00:02<00:00, 31.4MB/s]\n",
      " 87%|████████▋ | 69.6M/80.2M [00:02<00:00, 32.0MB/s]\n",
      " 91%|█████████ | 72.7M/80.2M [00:02<00:00, 32.2MB/s]\n",
      " 94%|█████████▍| 75.8M/80.2M [00:02<00:00, 30.9MB/s]\n",
      " 99%|█████████▊| 79.2M/80.2M [00:02<00:00, 32.3MB/s]\n",
      "100%|██████████| 80.2M/80.2M [00:03<00:00, 27.9MB/s]\n",
      "File test.mp3 does not exist. If the path contains spaces, please try again after surrounding the entire path with quotes \"\".\n"
     ]
    }
   ],
   "source": [
    "# You can use the `demucs` command line to separate tracks\n",
    "!demucs test.mp3"
   ]
  },
  {
   "cell_type": "code",
   "execution_count": null,
   "metadata": {},
   "outputs": [
    {
     "name": "stderr",
     "output_type": "stream",
     "text": [
      "Downloading: \"https://dl.fbaipublicfiles.com/demucs/mdx_final/0d19c1c6-0f06f20e.th\" to C:\\Users\\Usuario/.cache\\torch\\hub\\checkpoints\\0d19c1c6-0f06f20e.th\n"
     ]
    },
    {
     "data": {
      "application/vnd.jupyter.widget-view+json": {
       "model_id": "7ca4b351249140d88a963197829e78e5",
       "version_major": 2,
       "version_minor": 0
      },
      "text/plain": [
       "  0%|          | 0.00/170M [00:00<?, ?B/s]"
      ]
     },
     "metadata": {},
     "output_type": "display_data"
    },
    {
     "name": "stderr",
     "output_type": "stream",
     "text": [
      "Downloading: \"https://dl.fbaipublicfiles.com/demucs/mdx_final/7ecf8ec1-70f50cc9.th\" to C:\\Users\\Usuario/.cache\\torch\\hub\\checkpoints\\7ecf8ec1-70f50cc9.th\n"
     ]
    },
    {
     "data": {
      "application/vnd.jupyter.widget-view+json": {
       "model_id": "888a05b679474b14b64f709e6038e7dd",
       "version_major": 2,
       "version_minor": 0
      },
      "text/plain": [
       "  0%|          | 0.00/170M [00:00<?, ?B/s]"
      ]
     },
     "metadata": {},
     "output_type": "display_data"
    },
    {
     "name": "stderr",
     "output_type": "stream",
     "text": [
      "Downloading: \"https://dl.fbaipublicfiles.com/demucs/mdx_final/c511e2ab-fe698775.th\" to C:\\Users\\Usuario/.cache\\torch\\hub\\checkpoints\\c511e2ab-fe698775.th\n"
     ]
    },
    {
     "data": {
      "application/vnd.jupyter.widget-view+json": {
       "model_id": "a0682e4c44044762bee3b13b81d14410",
       "version_major": 2,
       "version_minor": 0
      },
      "text/plain": [
       "  0%|          | 0.00/160M [00:00<?, ?B/s]"
      ]
     },
     "metadata": {},
     "output_type": "display_data"
    },
    {
     "name": "stderr",
     "output_type": "stream",
     "text": [
      "Downloading: \"https://dl.fbaipublicfiles.com/demucs/mdx_final/7d865c68-3d5dd56b.th\" to C:\\Users\\Usuario/.cache\\torch\\hub\\checkpoints\\7d865c68-3d5dd56b.th\n"
     ]
    },
    {
     "data": {
      "application/vnd.jupyter.widget-view+json": {
       "model_id": "8be74f3c27a343f5bbdb6e7b1f48e14c",
       "version_major": 2,
       "version_minor": 0
      },
      "text/plain": [
       "  0%|          | 0.00/160M [00:00<?, ?B/s]"
      ]
     },
     "metadata": {},
     "output_type": "display_data"
    }
   ],
   "source": [
    "# You can also load directly the pretrained models,\n",
    "# for instance for the MDX 2021 winning model of Track A:\n",
    "from demucs import pretrained\n",
    "model = pretrained.get_model('mdx')"
   ]
  },
  {
   "cell_type": "code",
   "execution_count": null,
   "metadata": {},
   "outputs": [],
   "source": [
    "# Because `model` is a bag of 4 models, you cannot directly call it on your data,\n",
    "# but the `apply_model` will know what to do of it.\n",
    "import torch\n",
    "from demucs.apply import apply_model\n",
    "x = torch.randn(1, 2, 44100 * 10)  # ten seconds of white noise for the demo\n",
    "out = apply_model(model, x)[0]     # shape is [S, C, T] with S the number of sources\n",
    "\n",
    "# So let see, where is all the white noise content is going ?\n",
    "for name, source in zip(model.sources, out):\n",
    "    print(name, source.std() / x.std())\n",
    "# The outputs are quite weird to be fair, not what I would have expected."
   ]
  },
  {
   "cell_type": "code",
   "execution_count": null,
   "metadata": {},
   "outputs": [],
   "source": [
    "# now let's take a single model from the bag, and let's test it on a pure cosine\n",
    "freq = 440  # in Hz\n",
    "sr = model.samplerate\n",
    "t = torch.arange(10 * sr).float() / sr\n",
    "x = torch.cos(2 * 3.1416 * freq * t).expand(1, 2, -1)\n",
    "sub_model = model.models[3]\n",
    "out = sub_model(x)[0]\n",
    "\n",
    "# Same question where does it go?\n",
    "for name, source in zip(model.sources, out):\n",
    "    print(name, source.std() / x.std())\n",
    "    \n",
    "# Well now it makes much more sense, all the energy is going\n",
    "# in the `other` source.\n",
    "# Feel free to try lower pitch (try 80 Hz) to see what happens !"
   ]
  },
  {
   "cell_type": "code",
   "execution_count": null,
   "metadata": {},
   "outputs": [],
   "source": [
    "# For training or more fun, refer to the Demucs README on our repo\n",
    "# https://github.com/facebookresearch/demucs/tree/main/demucs"
   ]
  }
 ],
 "metadata": {
  "accelerator": "GPU",
  "colab": {
   "authorship_tag": "ABX9TyM9xpVr1M86NRcjtQ7g9tCx",
   "collapsed_sections": [],
   "name": "Demucs.ipynb",
   "provenance": []
  },
  "kernelspec": {
   "display_name": "base",
   "language": "python",
   "name": "python3"
  },
  "language_info": {
   "codemirror_mode": {
    "name": "ipython",
    "version": 3
   },
   "file_extension": ".py",
   "mimetype": "text/x-python",
   "name": "python",
   "nbconvert_exporter": "python",
   "pygments_lexer": "ipython3",
   "version": "3.9.13"
  }
 },
 "nbformat": 4,
 "nbformat_minor": 1
}
